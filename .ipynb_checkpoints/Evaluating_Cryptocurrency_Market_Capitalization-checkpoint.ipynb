{
 "cells": [
  {
   "cell_type": "markdown",
   "metadata": {},
   "source": [
    "<h1><center>Evaluating Cryptocurrency Market Capitalization</center></h1>\n"
   ]
  },
  {
   "cell_type": "markdown",
   "metadata": {},
   "source": [
    "## <center>Disclaimer</center>\n",
    "This article is for informational and entertainment purposes, and should not be construed as personal investment advice.Please seek out a certified financial planner if you need advice tailored to your unique situation."
   ]
  },
  {
   "cell_type": "markdown",
   "metadata": {},
   "source": [
    "## Abstract"
   ]
  },
  {
   "cell_type": "markdown",
   "metadata": {},
   "source": [
    "Blockchain is now one of the most popular topics in social media, which is a ***REVOLUTIONARY*** technology.\n",
    "\n",
    "As the most widely used application of blockchain technology, **cryptocurrency** is a completely newly sprouted subject of investment. As any other kind of universal equivalent or unit of account, the value of them originate from the consensus of people.\n",
    "\n",
    "It is always infeasible to compute the exact inherent value of cryptocurrency. However, we can employ some reasonable methods to estimate the approximate value of cryptocurrency. \n",
    "\n",
    "In this article, I'll try to envaluate the marketcap of ***bitcoin***, which is the most widely known and earliest cryptocurrency."
   ]
  },
  {
   "cell_type": "markdown",
   "metadata": {},
   "source": [
    "<h2>Quantity theory of money</h2>"
   ]
  },
  {
   "cell_type": "markdown",
   "metadata": {},
   "source": [
    "In monetary economics, the quantity theory of money (QTM) states that the general price level of goods and services is directly proportional to the amount of money in circulation, or money supply.\n",
    "\n",
    "The theory was challenged by Keynesian economics, but updated and reinvigorated by the monetarist school of economics. While mainstream economists agree that the quantity theory holds true in the long run, there is still disagreement about its applicability in the short run. Critics of the theory argue that money velocity is not stable and, in the short-run, prices are sticky, so the direct relationship between money supply and price level does not hold.\n",
    "\n",
    "(source:https://en.wikipedia.org/wiki/Quantity_theory_of_money)"
   ]
  },
  {
   "cell_type": "markdown",
   "metadata": {},
   "source": [
    "## Equation of exchange"
   ]
  },
  {
   "cell_type": "markdown",
   "metadata": {},
   "source": [
    "In macroeconomics, the classic equation to investigate the value of money could be viewed as:\n",
    "\n",
    "$$M * V = P * T$$\n",
    "\n",
    "where\n",
    "* $M$ denotes the total nominal amount of money supply in circulation on average in an economy,\n",
    "* $V$ denotes the velocity of money, that is exchange rate per unit of time,\n",
    "* $P$ denotes the price level, which is the reciprocal value of currency,\n",
    "* $T$ denotes number of transactions made per unit of time(on newly produced goods and services).\n",
    "\n",
    "(source:https://en.wikipedia.org/wiki/Equation_of_exchange)"
   ]
  },
  {
   "cell_type": "markdown",
   "metadata": {},
   "source": [
    "## Explaination of the equation"
   ]
  },
  {
   "cell_type": "markdown",
   "metadata": {},
   "source": [
    "This equation is not difficult to understand. In order to get through with this, taking **bitcoin** as an example, let me make some explaination.\n",
    "\n",
    "If there's $M$ bitcoins newly generated per year, and every bitcoin is swapped $V$ times, while the whole fortune of economics (newly created wealth) equals to $T$, the price of bitcoin should be:\n",
    "\n",
    "$$ \\frac{1}{P} = \\frac{T}{M*V}$$\n",
    "\n",
    "which means, if $V$, $T$ remain unchanged and $M$ increases (the more currency released), $P$ will rise and the price of bitcoin will drop. \n",
    "This is where inflation come from.\n",
    "\n",
    "However, if we keep $M$ unchanged (or a slight increase, actually the restriction of total supply of bitcoin can ensure this), even though there's a small increase of velocity of money c.a. $V$, as long as the extent of increasing of newly generated value $T$ is greater than the extent of increasing of money velocity $V$, the price of bitcoin will advance! That is, the currency is not circulating meaninglessly but as an equivalent.\n",
    "\n",
    "### ***This is the reason why we claim bitcoin is bullish for long term.***"
   ]
  },
  {
   "cell_type": "markdown",
   "metadata": {},
   "source": [
    "##  Calculation"
   ]
  },
  {
   "cell_type": "markdown",
   "metadata": {},
   "source": [
    "In fact, the supply of cryptocurrency is always clearly pre-defined. Therefore, the estimation of $V$ and $T$ is the most important part of our problem (also very controversial). The referenced article _How to Value Cryptocurrencies (including Bitcoin, Ethereum, etc)_ includes many more details about the math part.\n",
    "![BTC Price](https://www.lynalden.com/wp-content/uploads/bitcoin-valuation-chart.jpg)"
   ]
  },
  {
   "cell_type": "markdown",
   "metadata": {},
   "source": [
    "##  Reference"
   ]
  },
  {
   "cell_type": "markdown",
   "metadata": {},
   "source": [
    "* [1]. https://en.wikipedia.org/wiki/Equation_of_exchange\n",
    "* [2]. https://en.wikipedia.org/wiki/Quantity_theory_of_money\n",
    "* [3]. https://www.lynalden.com/cryptocurrencies/"
   ]
  },
  {
   "cell_type": "code",
   "execution_count": null,
   "metadata": {
    "collapsed": true
   },
   "outputs": [],
   "source": []
  }
 ],
 "metadata": {
  "kernelspec": {
   "display_name": "Python 3",
   "language": "python",
   "name": "python3"
  },
  "language_info": {
   "codemirror_mode": {
    "name": "ipython",
    "version": 3
   },
   "file_extension": ".py",
   "mimetype": "text/x-python",
   "name": "python",
   "nbconvert_exporter": "python",
   "pygments_lexer": "ipython3",
   "version": "3.5.3"
  }
 },
 "nbformat": 4,
 "nbformat_minor": 2
}
