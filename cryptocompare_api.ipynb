{
 "cells": [
  {
   "cell_type": "code",
   "execution_count": 56,
   "metadata": {},
   "outputs": [],
   "source": [
    "from bs4 import BeautifulSoup\n",
    "import datetime\n",
    "import requests\n",
    "import time\n",
    "import matplotlib.pyplot as plt"
   ]
  },
  {
   "cell_type": "code",
   "execution_count": 52,
   "metadata": {},
   "outputs": [],
   "source": [
    "r = requests.get('https://min-api.cryptocompare.com/data/histominute?fsym=BTC&tsym=USD&limit=10&aggregate=3&e=CCCAGG')"
   ]
  },
  {
   "cell_type": "code",
   "execution_count": 53,
   "metadata": {
    "scrolled": false
   },
   "outputs": [
    {
     "data": {
      "text/plain": [
       "{'Aggregated': True,\n",
       " 'ConversionType': {'conversionSymbol': '', 'type': 'direct'},\n",
       " 'Data': [{'close': 7923.83,\n",
       "   'high': 7924.66,\n",
       "   'low': 7864.33,\n",
       "   'open': 7864.33,\n",
       "   'time': 1518156720,\n",
       "   'volumefrom': 558.31,\n",
       "   'volumeto': 4408095.46},\n",
       "  {'close': 7949.73,\n",
       "   'high': 7950.56,\n",
       "   'low': 7923.37,\n",
       "   'open': 7923.83,\n",
       "   'time': 1518156900,\n",
       "   'volumefrom': 272.56,\n",
       "   'volumeto': 2181934.8499999996},\n",
       "  {'close': 7972.08,\n",
       "   'high': 7972.99,\n",
       "   'low': 7945.75,\n",
       "   'open': 7949.73,\n",
       "   'time': 1518157080,\n",
       "   'volumefrom': 324.01,\n",
       "   'volumeto': 2594538.37},\n",
       "  {'close': 7961.22,\n",
       "   'high': 7972.14,\n",
       "   'low': 7941.55,\n",
       "   'open': 7972.14,\n",
       "   'time': 1518157260,\n",
       "   'volumefrom': 309.39,\n",
       "   'volumeto': 2475326.73},\n",
       "  {'close': 7949.44,\n",
       "   'high': 7962.36,\n",
       "   'low': 7949.19,\n",
       "   'open': 7961.22,\n",
       "   'time': 1518157440,\n",
       "   'volumefrom': 119.41,\n",
       "   'volumeto': 960331.49},\n",
       "  {'close': 7956.67,\n",
       "   'high': 7959.37,\n",
       "   'low': 7947.91,\n",
       "   'open': 7949.44,\n",
       "   'time': 1518157620,\n",
       "   'volumefrom': 107.67,\n",
       "   'volumeto': 863425.32},\n",
       "  {'close': 7963.28,\n",
       "   'high': 7965.82,\n",
       "   'low': 7953.54,\n",
       "   'open': 7956.67,\n",
       "   'time': 1518157800,\n",
       "   'volumefrom': 84.12,\n",
       "   'volumeto': 674682.95},\n",
       "  {'close': 7966.26,\n",
       "   'high': 7972.27,\n",
       "   'low': 7963.44,\n",
       "   'open': 7963.44,\n",
       "   'time': 1518157980,\n",
       "   'volumefrom': 108.64,\n",
       "   'volumeto': 869121.4},\n",
       "  {'close': 7955.78,\n",
       "   'high': 7966.73,\n",
       "   'low': 7953.26,\n",
       "   'open': 7966.26,\n",
       "   'time': 1518158160,\n",
       "   'volumefrom': 105.4,\n",
       "   'volumeto': 847116.09},\n",
       "  {'close': 7942.13,\n",
       "   'high': 7957.1,\n",
       "   'low': 7941.71,\n",
       "   'open': 7956.39,\n",
       "   'time': 1518158340,\n",
       "   'volumefrom': 101.83,\n",
       "   'volumeto': 815889.36},\n",
       "  {'close': 7943.41,\n",
       "   'high': 7951.8,\n",
       "   'low': 7940.8,\n",
       "   'open': 7943.24,\n",
       "   'time': 1518158520,\n",
       "   'volumefrom': 67.61,\n",
       "   'volumeto': 540766.11}],\n",
       " 'FirstValueInArray': True,\n",
       " 'Response': 'Success',\n",
       " 'TimeFrom': 1518156720,\n",
       " 'TimeTo': 1518158640,\n",
       " 'Type': 100}"
      ]
     },
     "execution_count": 53,
     "metadata": {},
     "output_type": "execute_result"
    }
   ],
   "source": [
    "r.json()"
   ]
  },
  {
   "cell_type": "code",
   "execution_count": 54,
   "metadata": {},
   "outputs": [
    {
     "name": "stdout",
     "output_type": "stream",
     "text": [
      "2018-02-09 14:12:00\n",
      "2018-02-09 14:15:00\n",
      "2018-02-09 14:18:00\n",
      "2018-02-09 14:21:00\n",
      "2018-02-09 14:24:00\n",
      "2018-02-09 14:27:00\n",
      "2018-02-09 14:30:00\n",
      "2018-02-09 14:33:00\n",
      "2018-02-09 14:36:00\n",
      "2018-02-09 14:39:00\n",
      "2018-02-09 14:42:00\n"
     ]
    }
   ],
   "source": [
    "times = [i['time'] for i in r.json()['Data']]\n",
    "for time in times:\n",
    "    print(\n",
    "    datetime.datetime.fromtimestamp(\n",
    "        time\n",
    "    ).strftime('%Y-%m-%d %H:%M:%S')\n",
    ")\n",
    "\n"
   ]
  },
  {
   "cell_type": "code",
   "execution_count": null,
   "metadata": {
    "collapsed": true
   },
   "outputs": [],
   "source": []
  }
 ],
 "metadata": {
  "kernelspec": {
   "display_name": "Python 3",
   "language": "python",
   "name": "python3"
  },
  "language_info": {
   "codemirror_mode": {
    "name": "ipython",
    "version": 3
   },
   "file_extension": ".py",
   "mimetype": "text/x-python",
   "name": "python",
   "nbconvert_exporter": "python",
   "pygments_lexer": "ipython3",
   "version": "3.5.3"
  }
 },
 "nbformat": 4,
 "nbformat_minor": 2
}
