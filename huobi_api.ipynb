{
 "cells": [
  {
   "cell_type": "code",
   "execution_count": 65,
   "metadata": {
    "collapsed": true
   },
   "outputs": [],
   "source": [
    "from datetime import datetime\n",
    "from Utils import *\n",
    "import pandas as pd\n",
    "import json\n",
    "from pandas.io.json import json_normalize"
   ]
  },
  {
   "cell_type": "code",
   "execution_count": 93,
   "metadata": {
    "collapsed": true
   },
   "outputs": [],
   "source": [
    "def get_kline(symbol, period, size=100):\n",
    "    \"\"\"\n",
    "    :param symbol\n",
    "    :param period: 可选值：{1min, 5min, 15min, 30min, 60min, 1day, 1mon, 1week, 1year }\n",
    "    :param size: 可选值： [1,2000]\n",
    "    :return:\n",
    "    \"\"\"\n",
    "    params = {'symbol': symbol,\n",
    "              'period': period,\n",
    "              'size': size}\n",
    "\n",
    "    url = MARKET_URL + '/market/history/kline'\n",
    "    return http_get_request(url, params)\n"
   ]
  },
  {
   "cell_type": "code",
   "execution_count": 98,
   "metadata": {
    "collapsed": true
   },
   "outputs": [],
   "source": [
    "content = get_kline('btcusdt', '1day', size=50)"
   ]
  },
  {
   "cell_type": "code",
   "execution_count": 99,
   "metadata": {
    "collapsed": true,
    "scrolled": false
   },
   "outputs": [],
   "source": [
    "data = content['data']\n",
    "df = pd.DataFrame.from_records(data)\n",
    "df['id'] = df['id'].apply(lambda x:datetime.fromtimestamp(x).strftime('%Y-%m-%d %H:%M:%S'))"
   ]
  },
  {
   "cell_type": "code",
   "execution_count": 100,
   "metadata": {},
   "outputs": [
    {
     "data": {
      "text/html": [
       "<div>\n",
       "<style>\n",
       "    .dataframe thead tr:only-child th {\n",
       "        text-align: right;\n",
       "    }\n",
       "\n",
       "    .dataframe thead th {\n",
       "        text-align: left;\n",
       "    }\n",
       "\n",
       "    .dataframe tbody tr th {\n",
       "        vertical-align: top;\n",
       "    }\n",
       "</style>\n",
       "<table border=\"1\" class=\"dataframe\">\n",
       "  <thead>\n",
       "    <tr style=\"text-align: right;\">\n",
       "      <th></th>\n",
       "      <th>amount</th>\n",
       "      <th>close</th>\n",
       "      <th>count</th>\n",
       "      <th>high</th>\n",
       "      <th>id</th>\n",
       "      <th>low</th>\n",
       "      <th>open</th>\n",
       "      <th>vol</th>\n",
       "    </tr>\n",
       "  </thead>\n",
       "  <tbody>\n",
       "    <tr>\n",
       "      <th>0</th>\n",
       "      <td>7057.006652</td>\n",
       "      <td>7981.10</td>\n",
       "      <td>48696</td>\n",
       "      <td>8460.00</td>\n",
       "      <td>2018-02-09 00:00:00</td>\n",
       "      <td>7738.61</td>\n",
       "      <td>8257.83</td>\n",
       "      <td>5.689766e+07</td>\n",
       "    </tr>\n",
       "    <tr>\n",
       "      <th>1</th>\n",
       "      <td>17443.217943</td>\n",
       "      <td>8241.33</td>\n",
       "      <td>145186</td>\n",
       "      <td>8650.00</td>\n",
       "      <td>2018-02-08 00:00:00</td>\n",
       "      <td>7568.00</td>\n",
       "      <td>8164.03</td>\n",
       "      <td>1.419914e+08</td>\n",
       "    </tr>\n",
       "    <tr>\n",
       "      <th>2</th>\n",
       "      <td>28420.621058</td>\n",
       "      <td>8165.59</td>\n",
       "      <td>216587</td>\n",
       "      <td>8525.00</td>\n",
       "      <td>2018-02-07 00:00:00</td>\n",
       "      <td>6805.00</td>\n",
       "      <td>7276.21</td>\n",
       "      <td>2.191236e+08</td>\n",
       "    </tr>\n",
       "    <tr>\n",
       "      <th>3</th>\n",
       "      <td>46288.223520</td>\n",
       "      <td>7274.99</td>\n",
       "      <td>328523</td>\n",
       "      <td>7516.77</td>\n",
       "      <td>2018-02-06 00:00:00</td>\n",
       "      <td>6051.19</td>\n",
       "      <td>7425.37</td>\n",
       "      <td>3.108578e+08</td>\n",
       "    </tr>\n",
       "    <tr>\n",
       "      <th>4</th>\n",
       "      <td>23669.353058</td>\n",
       "      <td>7425.42</td>\n",
       "      <td>200970</td>\n",
       "      <td>8580.00</td>\n",
       "      <td>2018-02-05 00:00:00</td>\n",
       "      <td>7213.13</td>\n",
       "      <td>8422.99</td>\n",
       "      <td>1.880050e+08</td>\n",
       "    </tr>\n",
       "  </tbody>\n",
       "</table>\n",
       "</div>"
      ],
      "text/plain": [
       "         amount    close   count     high                   id      low  \\\n",
       "0   7057.006652  7981.10   48696  8460.00  2018-02-09 00:00:00  7738.61   \n",
       "1  17443.217943  8241.33  145186  8650.00  2018-02-08 00:00:00  7568.00   \n",
       "2  28420.621058  8165.59  216587  8525.00  2018-02-07 00:00:00  6805.00   \n",
       "3  46288.223520  7274.99  328523  7516.77  2018-02-06 00:00:00  6051.19   \n",
       "4  23669.353058  7425.42  200970  8580.00  2018-02-05 00:00:00  7213.13   \n",
       "\n",
       "      open           vol  \n",
       "0  8257.83  5.689766e+07  \n",
       "1  8164.03  1.419914e+08  \n",
       "2  7276.21  2.191236e+08  \n",
       "3  7425.37  3.108578e+08  \n",
       "4  8422.99  1.880050e+08  "
      ]
     },
     "execution_count": 100,
     "metadata": {},
     "output_type": "execute_result"
    }
   ],
   "source": [
    "df.head()"
   ]
  },
  {
   "cell_type": "code",
   "execution_count": 101,
   "metadata": {},
   "outputs": [
    {
     "data": {
      "text/html": [
       "<iframe id=\"igraph\" scrolling=\"no\" style=\"border:none;\" seamless=\"seamless\" src=\"https://plot.ly/~zbwcn/71.embed\" height=\"525px\" width=\"100%\"></iframe>"
      ],
      "text/plain": [
       "<plotly.tools.PlotlyDisplay object>"
      ]
     },
     "execution_count": 101,
     "metadata": {},
     "output_type": "execute_result"
    }
   ],
   "source": [
    "import plotly.plotly as py\n",
    "import plotly.graph_objs as go\n",
    "\n",
    "import pandas_datareader as web\n",
    "from datetime import datetime\n",
    "\n",
    "# df = web.DataReader(\"aapl\", 'yahoo')\n",
    "\n",
    "trace = go.Candlestick(x=df['id'],\n",
    "                       open=df['open'],\n",
    "                       high=df['high'],\n",
    "                       low=df['low'],\n",
    "                       close=df['close'])\n",
    "data = [trace]\n",
    "py.iplot(data, filename='simple_candlestick')\n"
   ]
  },
  {
   "cell_type": "code",
   "execution_count": 70,
   "metadata": {
    "collapsed": true
   },
   "outputs": [],
   "source": [
    "# dir(datetime.datetime)"
   ]
  },
  {
   "cell_type": "code",
   "execution_count": null,
   "metadata": {
    "collapsed": true
   },
   "outputs": [],
   "source": []
  }
 ],
 "metadata": {
  "kernelspec": {
   "display_name": "Python 3",
   "language": "python",
   "name": "python3"
  },
  "language_info": {
   "codemirror_mode": {
    "name": "ipython",
    "version": 3
   },
   "file_extension": ".py",
   "mimetype": "text/x-python",
   "name": "python",
   "nbconvert_exporter": "python",
   "pygments_lexer": "ipython3",
   "version": "3.5.3"
  }
 },
 "nbformat": 4,
 "nbformat_minor": 2
}
