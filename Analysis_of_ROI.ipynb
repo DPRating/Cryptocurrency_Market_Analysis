{
 "cells": [
  {
   "cell_type": "markdown",
   "metadata": {},
   "source": [
    "# <center>Return On Invest - ROI</center>\n",
    "## <center>Darpal Rating Team</center>"
   ]
  },
  {
   "cell_type": "markdown",
   "metadata": {},
   "source": [
    "## <center>Disclaimer</center>\n",
    "This article is for informational and entertainment purposes, and should not be construed as personal investment advice.Please seek out a certified financial planner if you need advice tailored to your unique situation."
   ]
  },
  {
   "cell_type": "markdown",
   "metadata": {},
   "source": [
    "## <center>Abstract</center>\n",
    "We are proposing a performance measurement in order to evaluate the efficiency of an investment. ROI measures the amount of return on an investment relative to the  ***benchmark performance and risk-free rate***.\n",
    "\n",
    "\n",
    "- benchmark: a similar program, such as Ruff and SDA (both focus on IoT area).\n",
    "- risk-free rate: theoretical rate of return of an investment with zero risk i.e. the return of whole market index or essentially price of BTC."
   ]
  },
  {
   "cell_type": "markdown",
   "metadata": {},
   "source": [
    "## <center>Formular</center>\n",
    "\n",
    "$$ROI = \\frac{\\beta_{cur}}{T_{cur}}\\times\\frac{Index_{\\beta}}{Index_{cur}}\\times\\frac{Rating_{T}}{Rating_\\beta}\\times C\\times100\\% $$\n",
    "\n",
    "\n",
    "- $\\beta$ denotes benchmark, $\\beta_{cur}$ denotes the current market capitalization in circulating of benchmark,\n",
    "- $T$ denotes the subject of investment, $T_{cur}$ is the current market capitalization in circulating of subject,\n",
    "- $Index_{\\beta}$ is the value of market index when benchmark was listed on secondary market at the first time, $Index_{cur}$ is the the current value of market index,\n",
    "- $Rating_{T}$ and $Rating_\\beta$ is the DarpalRating scores of the subject and benchmark.\n",
    "- $C$ is the regulation coefficient, changing as our model evolves."
   ]
  },
  {
   "cell_type": "markdown",
   "metadata": {},
   "source": [
    "## <center>Explanation</center>\n",
    "\n",
    "- The market capitalization is calculated by fiat.\n",
    "- With the help of the second term ($Index$ part) we can not only eliminate the overpricing(or underpricing) factor of the benchmark, but take the pumping or dumping of the whole marketcap.\n",
    "- The third term, including DarpalRating scores of the two objects, replies on our scientific rating model.\n",
    "- Regulation factor C is a temporary term, which will be modified as our model evolves. It depends on some unquantifiable determinants.\n"
   ]
  },
  {
   "cell_type": "code",
   "execution_count": null,
   "metadata": {
    "collapsed": true
   },
   "outputs": [],
   "source": []
  }
 ],
 "metadata": {
  "kernelspec": {
   "display_name": "Python 3",
   "language": "python",
   "name": "python3"
  },
  "language_info": {
   "codemirror_mode": {
    "name": "ipython",
    "version": 3
   },
   "file_extension": ".py",
   "mimetype": "text/x-python",
   "name": "python",
   "nbconvert_exporter": "python",
   "pygments_lexer": "ipython3",
   "version": "3.5.3"
  }
 },
 "nbformat": 4,
 "nbformat_minor": 2
}
