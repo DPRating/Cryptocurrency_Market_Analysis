{
 "cells": [
  {
   "cell_type": "markdown",
   "metadata": {},
   "source": [
    "# <center>Valuation of Exchange Token\n",
    "## <center>Author: Darpal Rating"
   ]
  },
  {
   "cell_type": "markdown",
   "metadata": {},
   "source": [
    "## <center>Disclaimer</center>\n",
    "This article is for informational and entertainment purposes, and should not be construed as personal investment advice.Please seek out a certified financial planner if you need advice tailored to your unique situation."
   ]
  },
  {
   "cell_type": "markdown",
   "metadata": {},
   "source": [
    "We are taking <span style=\"color: red; \">KNC</span> as an example. According to its [official website](https://kyber.network/):\n",
    "KyberNetwork is a new system which allows the exchange and conversion of digital assets. We provide rich payment APIs and a new contract wallet that allow anyone to seamlessly receive payments from any token. Users can also mitigate the risks of price fluctuations in the cryptocurrency world with our derivative trading.\n",
    "\n"
   ]
  },
  {
   "cell_type": "markdown",
   "metadata": {},
   "source": [
    "Kyber作为交易中介机构，其利润与收入较容易量化。 \n",
    "截止2018年1月26日17:00，coinmarketcap网站上24小时币币（crypto-crypto pair）交易量为$24,291,423,411， 年化为$8,866,369,545,015。\n",
    "假设Kyber产品开发完成上线后市场占有率为5%，即$443,318,477,250.75；\n",
    "假设每笔交易手续费为0.1%（单向，且不包括提币费用），则其年化收入为$443,318,477.25；\n",
    "假设其净利润率为65%（港交所17Q3财报显示净利率为65%），其年化利润为$288,157,010.2;\n",
    "\n",
    "根据Kyber白皮书，其KNC利润部分将全部销毁（The collected KNC tokens from the fees, after paying for the operation expenses and to the supporting partners, will be burned, i.e. taken out of circulation.）。\n",
    "\n",
    "类比BNB，币安第二季度销毁BNB数量为1,821,586（占其季度20%的利润），按照公告发布时间2018年1月15日价格计算，BNB价格为$20，其季度净利润为$1,821,586，年化为$728,634,400，而BNB总市值为$1,251,883,509，其PE可视为1.72倍（港交所静态PE为62）。\n",
    "\n",
    "作为有稳定收入来源的组织，若给予其1.72倍估值，则Kyber估值为$489,866,917。\n",
    "目前KNC总市值为$445,464,076，其余去中心化交易机构DEW市值为$191,106,700，0x市值为$772,031,351，EDT市值为$89,496,000，BTS市值为$1,016,412,506。"
   ]
  },
  {
   "cell_type": "code",
   "execution_count": 6,
   "metadata": {},
   "outputs": [
    {
     "data": {
      "text/plain": [
       "5763140204.25975"
      ]
     },
     "execution_count": 6,
     "metadata": {},
     "output_type": "execute_result"
    }
   ],
   "source": [
    "24291423411 * 365 *0.05 * 0.001 * 0.65 * 20"
   ]
  },
  {
   "cell_type": "code",
   "execution_count": 4,
   "metadata": {},
   "outputs": [
    {
     "data": {
      "text/plain": [
       "0.6504670687004848"
      ]
     },
     "execution_count": 4,
     "metadata": {},
     "output_type": "execute_result"
    }
   ],
   "source": [
    "5501/8457"
   ]
  },
  {
   "cell_type": "code",
   "execution_count": 4,
   "metadata": {},
   "outputs": [
    {
     "data": {
      "text/plain": [
       "728634400"
      ]
     },
     "execution_count": 4,
     "metadata": {},
     "output_type": "execute_result"
    }
   ],
   "source": [
    "1821586 * 20 * 5 * 4"
   ]
  },
  {
   "cell_type": "code",
   "execution_count": 5,
   "metadata": {},
   "outputs": [
    {
     "data": {
      "text/plain": [
       "1.7181229832135294"
      ]
     },
     "execution_count": 5,
     "metadata": {},
     "output_type": "execute_result"
    }
   ],
   "source": [
    "1251883509/728634400"
   ]
  },
  {
   "cell_type": "code",
   "execution_count": 6,
   "metadata": {},
   "outputs": [
    {
     "data": {
      "text/plain": [
       "489866917.0"
      ]
     },
     "execution_count": 6,
     "metadata": {},
     "output_type": "execute_result"
    }
   ],
   "source": [
    "288157010*1.7"
   ]
  },
  {
   "cell_type": "code",
   "execution_count": 18,
   "metadata": {},
   "outputs": [
    {
     "data": {
      "text/plain": [
       "89496000.0"
      ]
     },
     "execution_count": 18,
     "metadata": {},
     "output_type": "execute_result"
    }
   ],
   "source": [
    "1500000000 * 0.059664"
   ]
  },
  {
   "cell_type": "code",
   "execution_count": null,
   "metadata": {
    "collapsed": true
   },
   "outputs": [],
   "source": []
  }
 ],
 "metadata": {
  "kernelspec": {
   "display_name": "Python 3",
   "language": "python",
   "name": "python3"
  },
  "language_info": {
   "codemirror_mode": {
    "name": "ipython",
    "version": 3
   },
   "file_extension": ".py",
   "mimetype": "text/x-python",
   "name": "python",
   "nbconvert_exporter": "python",
   "pygments_lexer": "ipython3",
   "version": "3.5.3"
  }
 },
 "nbformat": 4,
 "nbformat_minor": 2
}
