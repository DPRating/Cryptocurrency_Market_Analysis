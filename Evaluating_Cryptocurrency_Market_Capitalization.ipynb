{
 "cells": [
  {
   "cell_type": "markdown",
   "metadata": {},
   "source": [
    "<h1><center>Evaluating Cryptocurrency Market Capital</center></h1>\n"
   ]
  },
  {
   "cell_type": "markdown",
   "metadata": {},
   "source": [
    "## Abstract"
   ]
  },
  {
   "cell_type": "markdown",
   "metadata": {},
   "source": [
    "Blockchain is now one of the most popular topics in social media, which is a ***REVOLUTIONARY*** technology.\n",
    "\n",
    "As the most widely used application of blockchain technology, **cryptocurrency** is a completely newly sprouted subject of investment. As any other kind of universal equivalent or unit of account, the value of them originate from the consensus of people.\n",
    "\n",
    "It is always infeasible to compute the exact inherent value of cryptocurrency. However, we can employ some reasonable methods to estimate the approximate value of cryptocurrency. \n",
    "\n",
    "In this article, I'll try to envaluate the marketcap of ***bitcoin***, which is the most widely known and earliest cryptocurrency."
   ]
  },
  {
   "cell_type": "markdown",
   "metadata": {},
   "source": [
    "<h2>Quantity theory of money</h2>"
   ]
  },
  {
   "cell_type": "markdown",
   "metadata": {},
   "source": [
    "In monetary economics, the quantity theory of money (QTM) states that the general price level of goods and services is directly proportional to the amount of money in circulation, or money supply.\n",
    "\n",
    "The theory was challenged by Keynesian economics, but updated and reinvigorated by the monetarist school of economics. While mainstream economists agree that the quantity theory holds true in the long run, there is still disagreement about its applicability in the short run. Critics of the theory argue that money velocity is not stable and, in the short-run, prices are sticky, so the direct relationship between money supply and price level does not hold.\n",
    "\n",
    "(source:https://en.wikipedia.org/wiki/Quantity_theory_of_money)"
   ]
  },
  {
   "cell_type": "markdown",
   "metadata": {},
   "source": [
    "## Equation of exchange"
   ]
  },
  {
   "cell_type": "markdown",
   "metadata": {},
   "source": [
    "In macroeconomics, the classic equation to investigate the value of money could be viewed as:\n",
    "\n",
    "$$M * V = P * T$$\n",
    "\n",
    "where\n",
    "* $M$ denotes the total nominal amount of money supply in circulation on average in an economy,\n",
    "* $V$ denotes the velocity of money, that is exchange rate per unit of time,\n",
    "* $P$ denotes the price level, which is the reciprocal value of currency,\n",
    "* $T$ denotes number of transactions made per unit of time(on newly produced goods and services).\n",
    "\n",
    "(source:https://en.wikipedia.org/wiki/Equation_of_exchange)"
   ]
  },
  {
   "cell_type": "markdown",
   "metadata": {},
   "source": [
    "This equation is not difficult to understand. In order to get through with this, taking **bitcoin** as an example, let me make some explaination.\n",
    "\n",
    "If there's $M$ bitcoins newly generated per year, and every bitcoin is swapped $V$ times, while the whole fortune of economics (newly created wealth) equals to $T$, the price of bitcoin should be:\n",
    "\n",
    "$$ \\frac{1}{P} = \\frac{T}{M*V}$$"
   ]
  }
 ],
 "metadata": {
  "kernelspec": {
   "display_name": "Python 3",
   "language": "python",
   "name": "python3"
  },
  "language_info": {
   "codemirror_mode": {
    "name": "ipython",
    "version": 3
   },
   "file_extension": ".py",
   "mimetype": "text/x-python",
   "name": "python",
   "nbconvert_exporter": "python",
   "pygments_lexer": "ipython3",
   "version": "3.5.3"
  }
 },
 "nbformat": 4,
 "nbformat_minor": 2
}
